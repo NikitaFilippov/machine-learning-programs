{
 "cells": [
  {
   "cell_type": "code",
   "execution_count": 12,
   "metadata": {},
   "outputs": [],
   "source": [
    "import pandas as pd\n",
    "from sklearn.tree import DecisionTreeClassifier\n",
    "from sklearn.metrics import precision_score\n",
    "from sklearn import tree\n",
    "data_music=pd.read_csv(\"https://stepik.org/media/attachments/course/4852/songs.csv\")\n",
    "\n",
    "\n"
   ]
  },
  {
   "cell_type": "code",
   "execution_count": 13,
   "metadata": {},
   "outputs": [
    {
     "data": {
      "text/html": [
       "<div>\n",
       "<style scoped>\n",
       "    .dataframe tbody tr th:only-of-type {\n",
       "        vertical-align: middle;\n",
       "    }\n",
       "\n",
       "    .dataframe tbody tr th {\n",
       "        vertical-align: top;\n",
       "    }\n",
       "\n",
       "    .dataframe thead th {\n",
       "        text-align: right;\n",
       "    }\n",
       "</style>\n",
       "<table border=\"1\" class=\"dataframe\">\n",
       "  <thead>\n",
       "    <tr style=\"text-align: right;\">\n",
       "      <th></th>\n",
       "      <th>song</th>\n",
       "      <th>year</th>\n",
       "      <th>artist</th>\n",
       "      <th>genre</th>\n",
       "      <th>lyrics</th>\n",
       "      <th>length</th>\n",
       "      <th>commas</th>\n",
       "      <th>exclamations</th>\n",
       "      <th>colons</th>\n",
       "      <th>hyphens</th>\n",
       "    </tr>\n",
       "  </thead>\n",
       "  <tbody>\n",
       "    <tr>\n",
       "      <th>0</th>\n",
       "      <td>the-ownerz</td>\n",
       "      <td>2007</td>\n",
       "      <td>gangstarr</td>\n",
       "      <td>Hip-Hop</td>\n",
       "      <td>\"One-two..\"\\n\"One-two, shots to the chin.. kno...</td>\n",
       "      <td>1300</td>\n",
       "      <td>24</td>\n",
       "      <td>5</td>\n",
       "      <td>0</td>\n",
       "      <td>11</td>\n",
       "    </tr>\n",
       "    <tr>\n",
       "      <th>1</th>\n",
       "      <td>dead-sound-of-misery</td>\n",
       "      <td>2006</td>\n",
       "      <td>blind-guardian</td>\n",
       "      <td>Metal</td>\n",
       "      <td>It's dark\\nLet's do it now\\nBring in the siren...</td>\n",
       "      <td>1566</td>\n",
       "      <td>0</td>\n",
       "      <td>0</td>\n",
       "      <td>0</td>\n",
       "      <td>0</td>\n",
       "    </tr>\n",
       "    <tr>\n",
       "      <th>2</th>\n",
       "      <td>modred-s-song</td>\n",
       "      <td>2006</td>\n",
       "      <td>blind-guardian</td>\n",
       "      <td>Metal</td>\n",
       "      <td>I've lost my battle before it starts\\nmy first...</td>\n",
       "      <td>996</td>\n",
       "      <td>1</td>\n",
       "      <td>0</td>\n",
       "      <td>1</td>\n",
       "      <td>0</td>\n",
       "    </tr>\n",
       "    <tr>\n",
       "      <th>3</th>\n",
       "      <td>the-ninth-wave</td>\n",
       "      <td>2015</td>\n",
       "      <td>blind-guardian</td>\n",
       "      <td>Metal</td>\n",
       "      <td>As dark night embraces\\nWe are the nation\\nI w...</td>\n",
       "      <td>2868</td>\n",
       "      <td>5</td>\n",
       "      <td>0</td>\n",
       "      <td>0</td>\n",
       "      <td>0</td>\n",
       "    </tr>\n",
       "    <tr>\n",
       "      <th>4</th>\n",
       "      <td>skills</td>\n",
       "      <td>2014</td>\n",
       "      <td>gangstarr</td>\n",
       "      <td>Hip-Hop</td>\n",
       "      <td>Skills, skills, skills\\n\"My Microphone\"\\n\"It's...</td>\n",
       "      <td>3351</td>\n",
       "      <td>22</td>\n",
       "      <td>0</td>\n",
       "      <td>0</td>\n",
       "      <td>3</td>\n",
       "    </tr>\n",
       "    <tr>\n",
       "      <th>...</th>\n",
       "      <td>...</td>\n",
       "      <td>...</td>\n",
       "      <td>...</td>\n",
       "      <td>...</td>\n",
       "      <td>...</td>\n",
       "      <td>...</td>\n",
       "      <td>...</td>\n",
       "      <td>...</td>\n",
       "      <td>...</td>\n",
       "      <td>...</td>\n",
       "    </tr>\n",
       "    <tr>\n",
       "      <th>355</th>\n",
       "      <td>just-like-that</td>\n",
       "      <td>2006</td>\n",
       "      <td>abba</td>\n",
       "      <td>Pop</td>\n",
       "      <td>Until that day\\nMy life had been a river\\nFoll...</td>\n",
       "      <td>972</td>\n",
       "      <td>2</td>\n",
       "      <td>0</td>\n",
       "      <td>0</td>\n",
       "      <td>1</td>\n",
       "    </tr>\n",
       "    <tr>\n",
       "      <th>356</th>\n",
       "      <td>ring-ring</td>\n",
       "      <td>1995</td>\n",
       "      <td>abba</td>\n",
       "      <td>Pop</td>\n",
       "      <td>I was sitting by the phone\\nI was waiting all ...</td>\n",
       "      <td>1283</td>\n",
       "      <td>33</td>\n",
       "      <td>0</td>\n",
       "      <td>0</td>\n",
       "      <td>3</td>\n",
       "    </tr>\n",
       "    <tr>\n",
       "      <th>357</th>\n",
       "      <td>reina-danzante</td>\n",
       "      <td>1981</td>\n",
       "      <td>abba</td>\n",
       "      <td>Pop</td>\n",
       "      <td>You can dance\\nYou can jive\\nHaving the time o...</td>\n",
       "      <td>810</td>\n",
       "      <td>1</td>\n",
       "      <td>0</td>\n",
       "      <td>0</td>\n",
       "      <td>0</td>\n",
       "    </tr>\n",
       "    <tr>\n",
       "      <th>358</th>\n",
       "      <td>code-of-the-streets</td>\n",
       "      <td>2006</td>\n",
       "      <td>gangstarr</td>\n",
       "      <td>Hip-Hop</td>\n",
       "      <td>Take this for example young brothers want rep\\...</td>\n",
       "      <td>1996</td>\n",
       "      <td>34</td>\n",
       "      <td>0</td>\n",
       "      <td>0</td>\n",
       "      <td>5</td>\n",
       "    </tr>\n",
       "    <tr>\n",
       "      <th>359</th>\n",
       "      <td>one-of-us</td>\n",
       "      <td>2001</td>\n",
       "      <td>abba</td>\n",
       "      <td>Pop</td>\n",
       "      <td>They passed me by, all of those great romances...</td>\n",
       "      <td>991</td>\n",
       "      <td>8</td>\n",
       "      <td>0</td>\n",
       "      <td>0</td>\n",
       "      <td>0</td>\n",
       "    </tr>\n",
       "  </tbody>\n",
       "</table>\n",
       "<p>360 rows × 10 columns</p>\n",
       "</div>"
      ],
      "text/plain": [
       "                     song  year          artist    genre  \\\n",
       "0              the-ownerz  2007       gangstarr  Hip-Hop   \n",
       "1    dead-sound-of-misery  2006  blind-guardian    Metal   \n",
       "2           modred-s-song  2006  blind-guardian    Metal   \n",
       "3          the-ninth-wave  2015  blind-guardian    Metal   \n",
       "4                  skills  2014       gangstarr  Hip-Hop   \n",
       "..                    ...   ...             ...      ...   \n",
       "355        just-like-that  2006            abba      Pop   \n",
       "356             ring-ring  1995            abba      Pop   \n",
       "357        reina-danzante  1981            abba      Pop   \n",
       "358   code-of-the-streets  2006       gangstarr  Hip-Hop   \n",
       "359             one-of-us  2001            abba      Pop   \n",
       "\n",
       "                                                lyrics  length  commas  \\\n",
       "0    \"One-two..\"\\n\"One-two, shots to the chin.. kno...    1300      24   \n",
       "1    It's dark\\nLet's do it now\\nBring in the siren...    1566       0   \n",
       "2    I've lost my battle before it starts\\nmy first...     996       1   \n",
       "3    As dark night embraces\\nWe are the nation\\nI w...    2868       5   \n",
       "4    Skills, skills, skills\\n\"My Microphone\"\\n\"It's...    3351      22   \n",
       "..                                                 ...     ...     ...   \n",
       "355  Until that day\\nMy life had been a river\\nFoll...     972       2   \n",
       "356  I was sitting by the phone\\nI was waiting all ...    1283      33   \n",
       "357  You can dance\\nYou can jive\\nHaving the time o...     810       1   \n",
       "358  Take this for example young brothers want rep\\...    1996      34   \n",
       "359  They passed me by, all of those great romances...     991       8   \n",
       "\n",
       "     exclamations  colons  hyphens  \n",
       "0               5       0       11  \n",
       "1               0       0        0  \n",
       "2               0       1        0  \n",
       "3               0       0        0  \n",
       "4               0       0        3  \n",
       "..            ...     ...      ...  \n",
       "355             0       0        1  \n",
       "356             0       0        3  \n",
       "357             0       0        0  \n",
       "358             0       0        5  \n",
       "359             0       0        0  \n",
       "\n",
       "[360 rows x 10 columns]"
      ]
     },
     "execution_count": 13,
     "metadata": {},
     "output_type": "execute_result"
    }
   ],
   "source": [
    "data_music"
   ]
  },
  {
   "cell_type": "code",
   "execution_count": 20,
   "metadata": {},
   "outputs": [],
   "source": [
    "X=data_music.drop(['artist','song','lyrics','genre'],axis=1)\n",
    "Y=data_music.artist"
   ]
  },
  {
   "cell_type": "code",
   "execution_count": 21,
   "metadata": {},
   "outputs": [],
   "source": [
    "# Making train and test samples\n",
    "from sklearn.model_selection import train_test_split\n",
    "\n",
    "X_train, X_test, Y_train, Y_test = train_test_split(X, Y, test_size = 0.33, random_state = 42)"
   ]
  },
  {
   "cell_type": "code",
   "execution_count": 30,
   "metadata": {},
   "outputs": [
    {
     "data": {
      "text/plain": [
       "DecisionTreeClassifier(criterion='entropy', max_depth=5)"
      ]
     },
     "execution_count": 30,
     "metadata": {},
     "output_type": "execute_result"
    }
   ],
   "source": [
    "my_tree=tree.DecisionTreeClassifier(criterion='entropy',max_depth=5)\n",
    "my_tree.fit(X_train,Y_train)"
   ]
  },
  {
   "cell_type": "code",
   "execution_count": 31,
   "metadata": {},
   "outputs": [],
   "source": [
    "predictions=my_tree.predict(X_test)"
   ]
  },
  {
   "cell_type": "code",
   "execution_count": 32,
   "metadata": {},
   "outputs": [
    {
     "data": {
      "text/plain": [
       "array(['abba', 'gangstarr', 'abba', 'gangstarr', 'abba', 'gangstarr',\n",
       "       'gangstarr', 'abba', 'blind-guardian', 'blind-guardian', 'abba',\n",
       "       'gangstarr', 'blind-guardian', 'gangstarr', 'gangstarr',\n",
       "       'blind-guardian', 'abba', 'blind-guardian', 'blind-guardian',\n",
       "       'abba', 'abba', 'abba', 'gangstarr', 'blind-guardian',\n",
       "       'blind-guardian', 'abba', 'blind-guardian', 'blind-guardian',\n",
       "       'blind-guardian', 'abba', 'gangstarr', 'abba', 'abba', 'gangstarr',\n",
       "       'gangstarr', 'gangstarr', 'blind-guardian', 'gangstarr',\n",
       "       'blind-guardian', 'blind-guardian', 'abba', 'blind-guardian',\n",
       "       'blind-guardian', 'abba', 'abba', 'blind-guardian', 'gangstarr',\n",
       "       'abba', 'gangstarr', 'blind-guardian', 'abba', 'abba',\n",
       "       'blind-guardian', 'gangstarr', 'gangstarr', 'gangstarr',\n",
       "       'gangstarr', 'blind-guardian', 'blind-guardian', 'abba',\n",
       "       'blind-guardian', 'blind-guardian', 'abba', 'abba', 'gangstarr',\n",
       "       'gangstarr', 'gangstarr', 'gangstarr', 'gangstarr',\n",
       "       'blind-guardian', 'abba', 'abba', 'blind-guardian', 'gangstarr',\n",
       "       'blind-guardian', 'abba', 'blind-guardian', 'abba', 'abba', 'abba',\n",
       "       'blind-guardian', 'blind-guardian', 'blind-guardian', 'abba',\n",
       "       'abba', 'blind-guardian', 'gangstarr', 'abba', 'blind-guardian',\n",
       "       'gangstarr', 'abba', 'abba', 'blind-guardian', 'abba', 'abba',\n",
       "       'blind-guardian', 'blind-guardian', 'blind-guardian',\n",
       "       'blind-guardian', 'gangstarr', 'gangstarr', 'gangstarr',\n",
       "       'blind-guardian', 'blind-guardian', 'blind-guardian', 'gangstarr',\n",
       "       'blind-guardian', 'abba', 'blind-guardian', 'blind-guardian',\n",
       "       'gangstarr', 'gangstarr', 'blind-guardian', 'gangstarr',\n",
       "       'gangstarr', 'blind-guardian', 'blind-guardian', 'gangstarr',\n",
       "       'abba'], dtype=object)"
      ]
     },
     "execution_count": 32,
     "metadata": {},
     "output_type": "execute_result"
    }
   ],
   "source": [
    "predictions"
   ]
  },
  {
   "cell_type": "code",
   "execution_count": 33,
   "metadata": {},
   "outputs": [
    {
     "data": {
      "text/plain": [
       "0.7815126050420168"
      ]
     },
     "execution_count": 33,
     "metadata": {},
     "output_type": "execute_result"
    }
   ],
   "source": [
    "precision_score(Y_test,predictions, average='micro')"
   ]
  },
  {
   "cell_type": "code",
   "execution_count": null,
   "metadata": {},
   "outputs": [],
   "source": []
  }
 ],
 "metadata": {
  "kernelspec": {
   "display_name": "Python 3",
   "language": "python",
   "name": "python3"
  },
  "language_info": {
   "codemirror_mode": {
    "name": "ipython",
    "version": 3
   },
   "file_extension": ".py",
   "mimetype": "text/x-python",
   "name": "python",
   "nbconvert_exporter": "python",
   "pygments_lexer": "ipython3",
   "version": "3.8.5"
  }
 },
 "nbformat": 4,
 "nbformat_minor": 4
}
